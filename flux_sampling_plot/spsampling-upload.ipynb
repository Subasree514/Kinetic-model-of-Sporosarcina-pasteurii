{
 "cells": [
  {
   "cell_type": "code",
   "execution_count": 21,
   "id": "a470a7ee",
   "metadata": {},
   "outputs": [],
   "source": [
    "import pandas as pd\n",
    "import numpy as np\n",
    "import seaborn as sns\n",
    "import matplotlib.pyplot as plt\n",
    "\n",
    "\n",
    "# In[31]:\n",
    "\n",
    "\n",
    "#import joypy\n",
    "import pandas as pd\n",
    "import numpy as np\n",
    "from matplotlib import pyplot as plt\n",
    "from matplotlib import cm\n",
    "from sklearn.datasets import load_iris"
   ]
  },
  {
   "cell_type": "code",
   "execution_count": 22,
   "id": "575b8daf",
   "metadata": {},
   "outputs": [],
   "source": [
    "data_aero= pd.read_csv('/Users/subasrees/Desktop/python data/sprsminloopachr_2023.csv')"
   ]
  },
  {
   "cell_type": "code",
   "execution_count": 51,
   "id": "d101b51c",
   "metadata": {},
   "outputs": [
    {
     "name": "stderr",
     "output_type": "stream",
     "text": [
      "<ipython-input-51-703123b9d789>:4: UserWarning: Pandas requires version '1.4.3' or newer of 'xlsxwriter' (version '1.3.8' currently installed).\n",
      "  breast_median_df.to_excel('SPrsminmedian2023.xlsx')\n"
     ]
    }
   ],
   "source": [
    "context_median=data_aero.median(axis = 0)\n",
    "context_median=context_median[1:len(context_median)]\n",
    "context_median_df=pd.DataFrame(context_median)\n",
    "context_median_df.to_excel('SPrsminmedian2023.xlsx')"
   ]
  },
  {
   "cell_type": "code",
   "execution_count": 23,
   "id": "f4cf256a",
   "metadata": {},
   "outputs": [],
   "source": [
    "data_anaero= pd.read_csv('/Users/subasrees/Desktop/python data/SPrsminanaeroachr_2O23.csv')\n"
   ]
  },
  {
   "cell_type": "code",
   "execution_count": 53,
   "id": "63942ef0",
   "metadata": {},
   "outputs": [
    {
     "name": "stderr",
     "output_type": "stream",
     "text": [
      "<ipython-input-53-c63a6918cf56>:4: UserWarning: Pandas requires version '1.4.3' or newer of 'xlsxwriter' (version '1.3.8' currently installed).\n",
      "  breast_median_df.to_excel('SPrsminanaero2023.xlsx')\n"
     ]
    }
   ],
   "source": [
    "context_median=data_anaero.median(axis = 0)\n",
    "context_median=context_median[1:len(context_median)]\n",
    "context_median_df=pd.DataFrame(context_median)\n",
    "context_median_df.to_excel('SPrsminanaero2023.xlsx')\n",
    "##"
   ]
  },
  {
   "cell_type": "code",
   "execution_count": 24,
   "id": "9c283bba",
   "metadata": {},
   "outputs": [],
   "source": [
    "data_lpo= pd.read_csv('/Users/subasrees/Desktop/python data/SPrsminlpoachr_2023.csv')\n"
   ]
  },
  {
   "cell_type": "code",
   "execution_count": 5,
   "id": "4dd4ad3a",
   "metadata": {},
   "outputs": [
    {
     "name": "stderr",
     "output_type": "stream",
     "text": [
      "<ipython-input-5-a750e8a1dd30>:5: UserWarning: Pandas requires version '1.4.3' or newer of 'xlsxwriter' (version '1.3.8' currently installed).\n",
      "  breast_median_df.to_excel('SPrsminlpomedian2023.xlsx')\n"
     ]
    }
   ],
   "source": [
    "##\n",
    "context_median=data_lpo.median(axis = 0)\n",
    "context_median=context_median[1:len(context_median)]\n",
    "context_median_df=pd.DataFrame(context_median)\n",
    "context_median_df.to_excel('SPrsminlpomedian2023.xlsx')"
   ]
  },
  {
   "cell_type": "code",
   "execution_count": 25,
   "id": "c1c2f815",
   "metadata": {},
   "outputs": [],
   "source": [
    "data_context=data_anaero\n",
    "data_contextrs=data_lpo\n",
    "data_contextrshalf=data_aero"
   ]
  },
  {
   "cell_type": "code",
   "execution_count": 26,
   "id": "4fb7e71a",
   "metadata": {},
   "outputs": [],
   "source": [
    "a=data_context['EX_HCO3[e]']\n",
    "b=data_contextrs['EX_HCO3[e]']\n",
    "b1=data_contextrshalf['EX_HCO3[e]']\n",
    "\n",
    "c=data_context['Re_bm01304']\n",
    "d=data_contextrs['Re_bm01304']\n",
    "d1=data_contextrshalf['Re_bm01304']\n",
    "\n",
    "e=data_context['R_bm00869']\n",
    "f=data_contextrs['R_bm00869']\n",
    "f1=data_contextrshalf['R_bm00869']\n",
    "\n",
    "g=data_context['R_bm00459']\n",
    "h=data_contextrs['R_bm00459']\n",
    "h1=data_contextrshalf['R_bm00459']\n",
    "\n",
    "i=data_context['R_bm01111']\n",
    "j=data_contextrs['R_bm01111']\n",
    "j1=data_contextrshalf['R_bm01111']\n",
    "\n",
    "k=data_context['R_bm00127']\n",
    "l=data_contextrs['R_bm00127']\n",
    "l1=data_contextrshalf['R_bm00127']\n",
    "\n",
    "m=data_context['R_bm00123']\n",
    "n=data_contextrs['R_bm00123']\n",
    "n1=data_contextrshalf['R_bm00123']\n"
   ]
  },
  {
   "cell_type": "code",
   "execution_count": 27,
   "id": "37f618da",
   "metadata": {},
   "outputs": [],
   "source": [
    "df1=pd.DataFrame(a)\n",
    "df2=pd.DataFrame(b)\n",
    "df3=pd.DataFrame(b1)\n",
    "df4=pd.DataFrame(c)\n",
    "df5=pd.DataFrame(d)\n",
    "df6=pd.DataFrame(d1)\n",
    "df7=pd.DataFrame(e)\n",
    "df8=pd.DataFrame(f)\n",
    "df9=pd.DataFrame(f1)\n",
    "df10=pd.DataFrame(g)\n",
    "df11=pd.DataFrame(h)\n",
    "df12=pd.DataFrame(h1)\n",
    "df13=pd.DataFrame(i)\n",
    "df14=pd.DataFrame(j)\n",
    "df15=pd.DataFrame(j1)\n",
    "##\n",
    "df16=pd.DataFrame(k)\n",
    "df17=pd.DataFrame(l)\n",
    "df18=pd.DataFrame(l1)\n",
    "df19=pd.DataFrame(m)\n",
    "df20=pd.DataFrame(n)\n",
    "df21=pd.DataFrame(n1)"
   ]
  },
  {
   "cell_type": "code",
   "execution_count": 28,
   "id": "b19941d6",
   "metadata": {},
   "outputs": [],
   "source": [
    "df1.columns=['Bicarbonate efflux']\n",
    "df2.columns=['Bicarbonate efflux']\n",
    "df3.columns=['Bicarbonate efflux']\n",
    "\n",
    "df4.columns=['Ammonium efflux']\n",
    "df5.columns=['Ammonium efflux']\n",
    "df6.columns=['Ammonium efflux']\n",
    "##\n",
    "df7.columns=['Urease']\n",
    "df8.columns=['Urease']\n",
    "df9.columns=['Urease']\n",
    "\n",
    "df10.columns=['Carbonic anhydrase']\n",
    "df11.columns=['Carbonic anhydrase']\n",
    "df12.columns=['Carbonic anhydrase']\n",
    "\n",
    "df13.columns=['Catalase']\n",
    "df14.columns=['Catalase']\n",
    "df15.columns=['Catalase']\n",
    "\n",
    "df16.columns=['Glucose uptake']\n",
    "df17.columns=['Glucose uptake']\n",
    "df18.columns=['Glucose uptake']\n",
    "\n",
    "df19.columns=['Urea uptake']\n",
    "df20.columns=['Urea uptake']\n",
    "df21.columns=['Urea uptake']\n"
   ]
  },
  {
   "cell_type": "code",
   "execution_count": 29,
   "id": "52e89be1",
   "metadata": {},
   "outputs": [],
   "source": [
    "dataframe_1=pd.concat([df1,df2,df3], ignore_index=True, sort=False)\n",
    "dataframe_2=pd.concat([df4,df5,df6], ignore_index=True, sort=False)\n",
    "dataframe_3=pd.concat([df7,df8,df9], ignore_index=True, sort=False)\n",
    "dataframe_4=pd.concat([df10,df11,df12], ignore_index=True, sort=False)\n",
    "dataframe_5=pd.concat([df13,df14,df15], ignore_index=True, sort=False)\n",
    "dataframe_6=pd.concat([df16,df17,df18], ignore_index=True, sort=False)\n",
    "dataframe_7=pd.concat([df19,df20,df21], ignore_index=True, sort=False)"
   ]
  },
  {
   "cell_type": "code",
   "execution_count": 30,
   "id": "a59b772d",
   "metadata": {},
   "outputs": [],
   "source": [
    "schema1 = ['Anaerobic'] * 100002\n",
    "schema2 = ['LPO'] * 100002\n",
    "schema3=['Aerobic']*100002"
   ]
  },
  {
   "cell_type": "code",
   "execution_count": 31,
   "id": "b6a6ea26",
   "metadata": {},
   "outputs": [],
   "source": [
    "schema1_series=pd.Series(schema1)\n",
    "schema2_series=pd.Series(schema2)\n",
    "schema3_series=pd.Series(schema3)\n",
    "schema_DF_1=pd.DataFrame(schema1_series)\n",
    "schema_DF_2=pd.DataFrame(schema2_series)\n",
    "schema_DF_3=pd.DataFrame(schema3_series)"
   ]
  },
  {
   "cell_type": "code",
   "execution_count": 32,
   "id": "22418b65",
   "metadata": {},
   "outputs": [
    {
     "name": "stdout",
     "output_type": "stream",
     "text": [
      "300006\n"
     ]
    }
   ],
   "source": [
    "schema_DF=pd.concat([schema_DF_1, schema_DF_2,schema_DF_3], ignore_index=True, sort=False)\n",
    "print(len(schema_DF))"
   ]
  },
  {
   "cell_type": "code",
   "execution_count": 33,
   "id": "a351688e",
   "metadata": {},
   "outputs": [
    {
     "name": "stdout",
     "output_type": "stream",
     "text": [
      "8\n"
     ]
    }
   ],
   "source": [
    "s=[dataframe_1,dataframe_2,dataframe_3,dataframe_4,dataframe_5,dataframe_6,dataframe_7,schema_DF]\n",
    "print(len(s))\n",
    "rows3=pd.concat(s,axis=1) "
   ]
  },
  {
   "cell_type": "code",
   "execution_count": 34,
   "id": "75be625f",
   "metadata": {},
   "outputs": [
    {
     "name": "stdout",
     "output_type": "stream",
     "text": [
      "300006\n"
     ]
    }
   ],
   "source": [
    "rows3.columns=['Bicarbonate efflux','Ammonium efflux','Urease','Carbonic anhydrase','Catalase','Glucose uptake','Urea uptake','contexts']\n",
    "print(len(rows3))\n",
    "# In[105]:"
   ]
  },
  {
   "cell_type": "code",
   "execution_count": 35,
   "id": "1cbd49a5",
   "metadata": {},
   "outputs": [
    {
     "data": {
      "image/png": "[encoded data removed]",
      "text/plain": [
       "<Figure size 432x288 with 1 Axes>"
      ]
     },
     "metadata": {
      "needs_background": "light"
     },
     "output_type": "display_data"
    }
   ],
   "source": [
    "fig = plt.figure(layout=\"constrained\")\n",
    "boxplot1=sns.boxplot(data=rows3, x='contexts', y='Catalase',ax=None)\n",
    "medians = rows3.groupby(['contexts'])['Catalase'].median()\n",
    "medians_round=np.round(medians,4)\n",
    "mediansnew=medians.reindex(index = ['Anaerobic', 'LPO', 'Aerobic'])\n",
    "medians_round=np.round(mediansnew,2)\n",
    "vertical_offset = rows3['Catalase'].median() * 0.05 # offset from median for display\n",
    "for xtick in boxplot1.get_xticks():\n",
    "    boxplot1.text(xtick,medians_round[xtick] + vertical_offset,medians_round[xtick], \n",
    "            horizontalalignment='right',size='medium',color='k',weight='bold')\n",
    "boxplot1.set(\n",
    "    xlabel='', \n",
    "    title='Catalase',\n",
    "    ylabel=''\n",
    ")\n",
    "boxplot1.tick_params(labelsize=12)\n",
    "boxplot1.axes.set_title(\"Catalase\",fontsize=15)\n",
    "boxplot1.set_ylabel(\"Flux (mmol/gDW/h)\",fontsize=12)\n",
    "fig.savefig(\"spcat_5_2023.pdf\", format=\"pdf\")\n"
   ]
  },
  {
   "cell_type": "code",
   "execution_count": 36,
   "id": "456eb72b",
   "metadata": {},
   "outputs": [
    {
     "data": {
      "text/plain": [
       "Text(0.5, 1.0, 'Ammonium efflux')"
      ]
     },
     "execution_count": 36,
     "metadata": {},
     "output_type": "execute_result"
    },
    {
     "data": {
      "image/png": "[encoded data removed]",
      "text/plain": [
       "<Figure size 432x288 with 2 Axes>"
      ]
     },
     "metadata": {
      "needs_background": "light"
     },
     "output_type": "display_data"
    }
   ],
   "source": [
    "fig, (ax1, ax2) = plt.subplots(ncols=2, layout=\"tight\")\n",
    "boxplot1=sns.boxplot(data=rows3, x='contexts', y='Urease', ax=ax1)\n",
    "medians = rows3.groupby(['contexts'])['Urease'].median()\n",
    "medians_round=np.round(medians,2)\n",
    "mediansnew=medians.reindex(index = ['Anaerobic', 'LPO', 'Aerobic'])\n",
    "medians_round=np.round(mediansnew,2)\n",
    "vertical_offset = rows3['Urease'].median() * 0.05 # offset from median for display\n",
    "for xtick in boxplot1.get_xticks():\n",
    "    boxplot1.text(xtick,medians_round[xtick] + vertical_offset,medians_round[xtick], \n",
    "            horizontalalignment='right',size='medium',color='k',weight='bold')\n",
    "boxplot1.set(\n",
    "    xlabel='', \n",
    "    title='Urease',\n",
    "    ylabel=''\n",
    ")\n",
    "boxplot2=sns.boxplot(data=rows3, x='contexts', y='Ammonium efflux', ax=ax2)\n",
    "medians = rows3.groupby(['contexts'])['Ammonium efflux'].median()\n",
    "mediansnew=medians.reindex(index = ['Anaerobic', 'LPO', 'Aerobic'])\n",
    "medians_round=np.round(mediansnew,2)\n",
    "vertical_offset = rows3['Ammonium efflux'].median() * 0.05 # offset from median for display\n",
    "for xtick in boxplot2.get_xticks():\n",
    "    boxplot2.text(xtick,medians_round[xtick] + vertical_offset,medians_round[xtick], \n",
    "            horizontalalignment='right',size='medium',color='k',weight='bold')\n",
    "boxplot2.set(\n",
    "    xlabel='', \n",
    "    title='Ammonium efflux',\n",
    "    ylabel=''\n",
    ")\n",
    "##\n",
    "fig.supylabel('Flux (mmol/gDW/h)')\n",
    "boxplot1.tick_params(labelsize=12)\n",
    "boxplot1.axes.set_title(\"Urease\",fontsize=15)\n",
    "boxplot2.tick_params(labelsize=12)\n",
    "boxplot2.axes.set_title(\"Ammonium efflux\",fontsize=15)"
   ]
  },
  {
   "cell_type": "code",
   "execution_count": 37,
   "id": "5047b770",
   "metadata": {},
   "outputs": [],
   "source": [
    "#fig.savefig(\"spamm_5_2023.pdf\", format=\"pdf\")"
   ]
  },
  {
   "cell_type": "code",
   "execution_count": 38,
   "id": "a3530077",
   "metadata": {},
   "outputs": [
    {
     "data": {
      "text/plain": [
       "Text(0, 0.5, 'Flux (mmol/gDW/h)')"
      ]
     },
     "execution_count": 38,
     "metadata": {},
     "output_type": "execute_result"
    },
    {
     "data": {
      "image/png": "[encoded data removed]",
      "text/plain": [
       "<Figure size 432x288 with 2 Axes>"
      ]
     },
     "metadata": {
      "needs_background": "light"
     },
     "output_type": "display_data"
    }
   ],
   "source": [
    "fig, (ax1, ax2) = plt.subplots(ncols=2,layout=\"tight\")\n",
    "boxplot1=sns.boxplot(data=rows3, x='contexts', y='Carbonic anhydrase', ax=ax1)\n",
    "medians = rows3.groupby(['contexts'])['Carbonic anhydrase'].median()\n",
    "medians_round=np.round(medians,2)\n",
    "mediansnew=medians.reindex(index = ['Anaerobic', 'LPO', 'Aerobic'])\n",
    "medians_round=np.round(mediansnew,2)\n",
    "vertical_offset = rows3['Carbonic anhydrase'].median() * 0.05 # offset from median for display\n",
    "for xtick in boxplot1.get_xticks():\n",
    "    boxplot1.text(xtick,medians_round[xtick] + vertical_offset,medians_round[xtick], \n",
    "            horizontalalignment='right',size='medium',color='k',weight='bold')\n",
    "boxplot1.set(\n",
    "    xlabel='', \n",
    "    title='Carbonic anhydrase',\n",
    "    ylabel=''\n",
    ")\n",
    "boxplot2=sns.boxplot(data=rows3, x='contexts', y='Bicarbonate efflux', ax=ax2)\n",
    "medians = rows3.groupby(['contexts'])['Bicarbonate efflux'].median()\n",
    "mediansnew=medians.reindex(index = ['Anaerobic', 'LPO', 'Aerobic'])\n",
    "medians_round=np.round(mediansnew,2)\n",
    "vertical_offset = rows3['Bicarbonate efflux'].median() * 0.05 # offset from median for display\n",
    "for xtick in boxplot2.get_xticks():\n",
    "    boxplot2.text(xtick,medians_round[xtick] + vertical_offset,medians_round[xtick], \n",
    "            horizontalalignment='right',size='medium',color='k',weight='bold')\n",
    "boxplot2.set(\n",
    "    xlabel='', \n",
    "    title='Bicarbonate efflux',\n",
    "    ylabel=''\n",
    ")\n",
    "boxplot1.tick_params(labelsize=12)\n",
    "boxplot1.axes.set_title(\"Carbonic anhydrase\",fontsize=15)\n",
    "boxplot1.set_ylabel(\"Flux (mmol/gDW/h)\",fontsize=12)\n",
    "boxplot2.tick_params(labelsize=12)\n",
    "boxplot2.axes.set_title(\"Bicarbonate efflux\",fontsize=15)\n",
    "boxplot2.set_ylabel(\"Flux (mmol/gDW/h)\",fontsize=12)\n"
   ]
  },
  {
   "cell_type": "code",
   "execution_count": 39,
   "id": "5ecdfb4f",
   "metadata": {},
   "outputs": [],
   "source": [
    "#fig.savefig(\"sphco3_5.pdf\", format=\"pdf\")\n"
   ]
  }
 ],
 "metadata": {
  "kernelspec": {
   "display_name": "Python 3",
   "language": "python",
   "name": "python3"
  },
  "language_info": {
   "codemirror_mode": {
    "name": "ipython",
    "version": 3
   },
   "file_extension": ".py",
   "mimetype": "text/x-python",
   "name": "python",
   "nbconvert_exporter": "python",
   "pygments_lexer": "ipython3",
   "version": "3.8.8"
  }
 },
 "nbformat": 4,
 "nbformat_minor": 5
}
